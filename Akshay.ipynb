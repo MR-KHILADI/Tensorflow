{
 "cells": [
  {
   "cell_type": "code",
   "execution_count": 20,
   "metadata": {},
   "outputs": [],
   "source": [
    "reset -f"
   ]
  },
  {
   "cell_type": "code",
   "execution_count": 21,
   "metadata": {},
   "outputs": [],
   "source": [
    "import tensorflow as tf"
   ]
  },
  {
   "cell_type": "code",
   "execution_count": 22,
   "metadata": {},
   "outputs": [],
   "source": [
    "import numpy as np\n",
    "graph=tf.Graph()"
   ]
  },
  {
   "cell_type": "code",
   "execution_count": 26,
   "metadata": {},
   "outputs": [
    {
     "name": "stdout",
     "output_type": "stream",
     "text": [
      "Enter the length : 10\n",
      "Enter the window : 2\n"
     ]
    }
   ],
   "source": [
    "length=int(input('Enter the length : '))\n",
    "window=int(input('Enter the window : '))\n"
   ]
  },
  {
   "cell_type": "code",
   "execution_count": 27,
   "metadata": {},
   "outputs": [],
   "source": [
    "input_vector= np.random.normal(1, 2, length)"
   ]
  },
  {
   "cell_type": "code",
   "execution_count": 28,
   "metadata": {},
   "outputs": [],
   "source": [
    "with graph.as_default():\n",
    "    with tf.name_scope('variables'):\n",
    "        runs=tf.Variable(0,dtype=tf.int32,trainable=False,name='Runs')\n",
    "        total_sum=tf.Variable(0.0,dtype=tf.float32,trainable=False,name='total_sum')\n",
    "        "
   ]
  },
  {
   "cell_type": "code",
   "execution_count": 29,
   "metadata": {},
   "outputs": [],
   "source": [
    "with graph.as_default():\n",
    "    with tf.name_scope('input'):\n",
    "        a=tf.placeholder(tf.float32,shape=[1,None],name='input_placeholder_a')\n",
    "    with tf.name_scope('SMA_Section'):\n",
    "        SMA=tf.reduce_mean(a,name='add_window')\n",
    "        increment_step=runs.assign_add(1)\n",
    "    with tf.name_scope('SMA_summaries'):\n",
    "        tf.summary.scalar('Moving_Average',SMA)\n",
    "    \n",
    "    with tf.name_scope('global_ops'):\n",
    "        init=tf.initialize_all_variables()\n",
    "        merged_summaries=tf.summary.merge_all()"
   ]
  },
  {
   "cell_type": "code",
   "execution_count": 30,
   "metadata": {},
   "outputs": [],
   "source": [
    "sess=tf.Session(graph=graph)\n",
    "writer=tf.summary.FileWriter('./Akshay',graph)"
   ]
  },
  {
   "cell_type": "code",
   "execution_count": 31,
   "metadata": {},
   "outputs": [],
   "source": [
    "sess.run(init)\n",
    "results=[]"
   ]
  },
  {
   "cell_type": "code",
   "execution_count": 32,
   "metadata": {},
   "outputs": [],
   "source": [
    "def run_graph(input_tensor):\n",
    "    feed_dict={a:input_tensor}\n",
    "    output,summary,step=sess.run([SMA,merged_summaries,increment_step],feed_dict=feed_dict)\n",
    "    results.append(output)\n",
    "    writer.add_summary(summary,global_step=step)"
   ]
  },
  {
   "cell_type": "code",
   "execution_count": 33,
   "metadata": {},
   "outputs": [],
   "source": [
    "for i in range(0,len(input_vector)-window+1):\n",
    "    run_graph([input_vector[i:i+window]])\n"
   ]
  },
  {
   "cell_type": "code",
   "execution_count": 34,
   "metadata": {},
   "outputs": [],
   "source": [
    "writer.flush()\n",
    "writer.close()\n",
    "sess.close()"
   ]
  },
  {
   "cell_type": "code",
   "execution_count": 35,
   "metadata": {},
   "outputs": [
    {
     "name": "stdout",
     "output_type": "stream",
     "text": [
      "[1.3565342, 0.9287255, 0.67101514, 0.8358432, 0.38105443, 0.655421, 1.232137, 1.6124696, 0.3089286]\n"
     ]
    }
   ],
   "source": [
    "print(results)"
   ]
  },
  {
   "cell_type": "code",
   "execution_count": 37,
   "metadata": {},
   "outputs": [
    {
     "data": {
      "text/plain": [
       "array([ 2.2068936 ,  0.50617484,  1.35127609, -0.00924575,  1.68093212,\n",
       "       -0.91882328,  2.22966523,  0.23460856,  2.9903305 , -2.37247319])"
      ]
     },
     "execution_count": 37,
     "metadata": {},
     "output_type": "execute_result"
    }
   ],
   "source": [
    "input_vector\n"
   ]
  },
  {
   "cell_type": "code",
   "execution_count": null,
   "metadata": {},
   "outputs": [],
   "source": []
  }
 ],
 "metadata": {
  "kernelspec": {
   "display_name": "Python 3",
   "language": "python",
   "name": "python3"
  },
  "language_info": {
   "codemirror_mode": {
    "name": "ipython",
    "version": 3
   },
   "file_extension": ".py",
   "mimetype": "text/x-python",
   "name": "python",
   "nbconvert_exporter": "python",
   "pygments_lexer": "ipython3",
   "version": "3.6.8"
  }
 },
 "nbformat": 4,
 "nbformat_minor": 2
}
